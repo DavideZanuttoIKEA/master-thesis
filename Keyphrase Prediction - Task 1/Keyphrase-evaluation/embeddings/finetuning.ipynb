{
 "cells": [
  {
   "cell_type": "code",
   "execution_count": 1,
   "metadata": {},
   "outputs": [
    {
     "name": "stderr",
     "output_type": "stream",
     "text": [
      "/Users/davide.zanutto/miniconda3/envs/kpeval/lib/python3.8/site-packages/tqdm/auto.py:21: TqdmWarning: IProgress not found. Please update jupyter and ipywidgets. See https://ipywidgets.readthedocs.io/en/stable/user_install.html\n",
      "  from .autonotebook import tqdm as notebook_tqdm\n"
     ]
    }
   ],
   "source": [
    "import pandas as pd\n",
    "\n",
    "from sentence_transformers import InputExample\n",
    "from sentence_transformers import SentenceTransformer\n",
    "\n",
    "# Load your dataset\n",
    "data = pd.read_csv('AnnotatedSynonyms.csv')\n",
    "\n",
    "# Convert dataframe to list of InputExample\n",
    "training_examples = []\n",
    "for _, row in data.iterrows():\n",
    "    example = InputExample(texts=[row['keyphrases'], row['synonyms']], label=row['score'])\n",
    "    training_examples.append(example)\n",
    "\n",
    "# Load a pre-trained model\n",
    "model = SentenceTransformer('sentence-transformers/all-mpnet-base-v2')"
   ]
  },
  {
   "cell_type": "code",
   "execution_count": 2,
   "metadata": {},
   "outputs": [],
   "source": [
    "from sentence_transformers import losses\n",
    "from torch.utils.data import DataLoader\n",
    "\n",
    "# Prepare a dataloader\n",
    "train_dataloader = DataLoader(training_examples, shuffle=True, batch_size=16)\n",
    "\n",
    "# Define the loss\n",
    "train_loss = losses.CosineSimilarityLoss(model=model)"
   ]
  },
  {
   "cell_type": "code",
   "execution_count": 3,
   "metadata": {},
   "outputs": [
    {
     "name": "stderr",
     "output_type": "stream",
     "text": [
      "Iteration: 100%|██████████| 23/23 [01:01<00:00,  2.67s/it]\n",
      "Iteration: 100%|██████████| 23/23 [00:59<00:00,  2.60s/it]\n",
      "Iteration: 100%|██████████| 23/23 [01:09<00:00,  3.01s/it]\n",
      "Iteration: 100%|██████████| 23/23 [01:02<00:00,  2.71s/it]\n",
      "Iteration: 100%|██████████| 23/23 [00:59<00:00,  2.57s/it]\n",
      "Iteration: 100%|██████████| 23/23 [00:59<00:00,  2.58s/it]\n",
      "Iteration: 100%|██████████| 23/23 [01:01<00:00,  2.66s/it]\n",
      "Iteration: 100%|██████████| 23/23 [01:03<00:00,  2.74s/it]\n",
      "Iteration: 100%|██████████| 23/23 [01:02<00:00,  2.72s/it]\n",
      "Iteration: 100%|██████████| 23/23 [01:00<00:00,  2.64s/it]\n",
      "Epoch: 100%|██████████| 10/10 [10:18<00:00, 61.90s/it]\n"
     ]
    },
    {
     "name": "stdout",
     "output_type": "stream",
     "text": [
      "2024-06-25 17:03:20 - Save model to output/mpnetv2-finetuned\n"
     ]
    }
   ],
   "source": [
    "from sentence_transformers import evaluation, LoggingHandler\n",
    "import logging\n",
    "\n",
    "# For logging\n",
    "logging.basicConfig(format='%(asctime)s - %(message)s',\n",
    "                    datefmt='%Y-%m-%d %H:%M:%S',\n",
    "                    level=logging.INFO,\n",
    "                    handlers=[LoggingHandler()])\n",
    "\n",
    "# Configure the training\n",
    "model.fit(train_objectives=[(train_dataloader, train_loss)],\n",
    "          epochs=10,\n",
    "          warmup_steps=100,\n",
    "          output_path='output/mpnetv2-finetuned',\n",
    "          save_best_model=True,\n",
    "          show_progress_bar=True)\n"
   ]
  },
  {
   "cell_type": "code",
   "execution_count": 5,
   "metadata": {},
   "outputs": [
    {
     "name": "stdout",
     "output_type": "stream",
     "text": [
      "2024-06-25 17:28:21 - Load pretrained SentenceTransformer: output/mpnetv2-finetuned\n",
      "2024-06-25 17:28:22 - Use pytorch device_name: cpu\n"
     ]
    }
   ],
   "source": [
    "model = SentenceTransformer('output/mpnetv2-finetuned')"
   ]
  }
 ],
 "metadata": {
  "kernelspec": {
   "display_name": "kpeval",
   "language": "python",
   "name": "python3"
  },
  "language_info": {
   "codemirror_mode": {
    "name": "ipython",
    "version": 3
   },
   "file_extension": ".py",
   "mimetype": "text/x-python",
   "name": "python",
   "nbconvert_exporter": "python",
   "pygments_lexer": "ipython3",
   "version": "3.8.19"
  }
 },
 "nbformat": 4,
 "nbformat_minor": 2
}
