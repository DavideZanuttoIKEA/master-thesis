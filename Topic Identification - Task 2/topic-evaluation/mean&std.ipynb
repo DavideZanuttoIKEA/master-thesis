{
 "cells": [
  {
   "cell_type": "code",
   "execution_count": 8,
   "id": "603343bc-6a9d-4802-99a7-55da41847611",
   "metadata": {
    "tags": []
   },
   "outputs": [
    {
     "name": "stdout",
     "output_type": "stream",
     "text": [
      "Exact-Matching P:\n",
      "  Mean: 0.2514\n",
      "  Std Dev: 0.0358\n",
      "\n",
      "Exact-Matching R:\n",
      "  Mean: 0.2146\n",
      "  Std Dev: 0.0398\n",
      "\n",
      "Exact-Matching F1:\n",
      "  Mean: 0.2189\n",
      "  Std Dev: 0.0426\n",
      "\n",
      "Embedding-Based P:\n",
      "  Mean: 0.5772\n",
      "  Std Dev: 0.0330\n",
      "\n",
      "Embedding-Based R:\n",
      "  Mean: 0.5537\n",
      "  Std Dev: 0.0471\n",
      "\n",
      "Embedding-Based F1:\n",
      "  Mean: 0.5600\n",
      "  Std Dev: 0.0415\n",
      "\n",
      "Diversity:\n",
      "  Mean: 0.3378\n",
      "  Std Dev: 0.0247\n",
      "\n"
     ]
    }
   ],
   "source": [
    "import json\n",
    "import statistics\n",
    "import os\n",
    "\n",
    "def extract_metrics(data):\n",
    "    metrics = {}\n",
    "    for experiment in data[\"GroundTruthV2\"].keys():\n",
    "        if experiment.startswith(\"1ShotLlama3KeyphrasesKMeans\"):\n",
    "            exp_data = data[\"GroundTruthV2\"][experiment]\n",
    "            exact_p = exp_data['Exact-Matching']['mean'].get('Precision', 0)\n",
    "            exact_r = exp_data['Exact-Matching']['mean'].get('Weighted Recall', 0)\n",
    "            exact_f1 = exp_data['Exact-Matching']['mean'].get('F1 Score', 0)\n",
    "            embedding_p = exp_data['Embedding-Based']['mean'].get('Precision', 0)\n",
    "            embedding_r = exp_data['Embedding-Based']['mean'].get('Weighted Recall', 0)\n",
    "            embedding_f1 = exp_data['Embedding-Based']['mean'].get('F1 Score', 0)\n",
    "            diversity = exp_data['Diversity']['Diversity']\n",
    "            metrics[experiment] = {\n",
    "                'Exact-Matching P': exact_p,\n",
    "                'Exact-Matching R': exact_r,\n",
    "                'Exact-Matching F1': exact_f1,\n",
    "                'Embedding-Based P': embedding_p,\n",
    "                'Embedding-Based R': embedding_r,\n",
    "                'Embedding-Based F1': embedding_f1,\n",
    "                'Diversity': diversity\n",
    "            }\n",
    "    return metrics\n",
    "\n",
    "def compute_stats(metrics):\n",
    "    aggregated_metrics = {\n",
    "        'Exact-Matching P': [],\n",
    "        'Exact-Matching R': [],\n",
    "        'Exact-Matching F1': [],\n",
    "        'Embedding-Based P': [],\n",
    "        'Embedding-Based R': [],\n",
    "        'Embedding-Based F1': [],\n",
    "        'Diversity': []\n",
    "    }\n",
    "\n",
    "    for experiment_metrics in metrics.values():\n",
    "        for key in aggregated_metrics:\n",
    "            aggregated_metrics[key].append(experiment_metrics[key])\n",
    "\n",
    "    for metric, values in aggregated_metrics.items():\n",
    "        mean = statistics.mean(values)\n",
    "        std_dev = statistics.stdev(values) if len(values) > 1 else 0\n",
    "        print(f\"{metric}:\")\n",
    "        print(f\"  Mean: {mean:.4f}\")\n",
    "        print(f\"  Std Dev: {std_dev:.4f}\")\n",
    "        print()\n",
    "\n",
    "# Load the JSON file\n",
    "filename = \"evaluation_results.json\"  # Replace with your actual filename\n",
    "with open(filename, 'r') as f:\n",
    "    data = json.load(f)\n",
    "\n",
    "# Extract metrics from the JSON data\n",
    "metrics = extract_metrics(data)\n",
    "\n",
    "# Compute and print statistics\n",
    "compute_stats(metrics)"
   ]
  },
  {
   "cell_type": "code",
   "execution_count": null,
   "id": "234efc92-2188-4ded-8a18-725ec502d94c",
   "metadata": {},
   "outputs": [],
   "source": []
  }
 ],
 "metadata": {
  "environment": {
   "kernel": "conda-base-py",
   "name": "workbench-notebooks.m120",
   "type": "gcloud",
   "uri": "us-docker.pkg.dev/deeplearning-platform-release/gcr.io/workbench-notebooks:m120"
  },
  "kernelspec": {
   "display_name": "Python 3 (ipykernel)",
   "language": "python",
   "name": "conda-base-py"
  },
  "language_info": {
   "codemirror_mode": {
    "name": "ipython",
    "version": 3
   },
   "file_extension": ".py",
   "mimetype": "text/x-python",
   "name": "python",
   "nbconvert_exporter": "python",
   "pygments_lexer": "ipython3",
   "version": "3.10.14"
  }
 },
 "nbformat": 4,
 "nbformat_minor": 5
}
