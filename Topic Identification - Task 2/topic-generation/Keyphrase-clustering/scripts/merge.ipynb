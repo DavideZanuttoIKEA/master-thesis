{
 "cells": [
  {
   "cell_type": "code",
   "execution_count": 15,
   "metadata": {},
   "outputs": [],
   "source": [
    "import pandas as pd\n",
    "\n",
    "# Load the CSV files\n",
    "df1 = pd.read_csv('5Shot_FullReviewsKeyphrases_OpenStorageUS.csv', sep=';')\n",
    "df2 = pd.read_csv('artId_reviews.csv', sep=',')\n",
    "\n",
    "# Optional: Remove duplicates within each DataFrame if 'text' should be unique\n",
    "df1 = df1.drop_duplicates(subset='text', keep='first')  # Adjust 'keep' based on your data needs\n",
    "df2 = df2.drop_duplicates(subset='text', keep='first')  # Adjust 'keep' based on your data needs\n",
    "\n",
    "# Merge the DataFrames based on the 'text' column\n",
    "merged_df = pd.merge(df2, df1, on='text', how='inner')\n",
    "\n",
    "# Optional: Remove duplicates after merging if necessary\n",
    "merged_df = merged_df.drop_duplicates()\n",
    "\n",
    "# Split the merged DataFrame by 'art_id' and export each to a separate CSV\n",
    "for art_id, group in df2.groupby('art_id'):\n",
    "    # Get only the rows corresponding to the current 'art_id' by merging with the 'text' column\n",
    "    final_df = pd.merge(group[['text']], merged_df, on='text', how='left').drop_duplicates()\n",
    "    final_df.to_csv(f'articles/{art_id}.csv', index=False, columns=['Keyphrases'])"
   ]
  },
  {
   "cell_type": "code",
   "execution_count": null,
   "metadata": {},
   "outputs": [],
   "source": []
  }
 ],
 "metadata": {
  "kernelspec": {
   "display_name": "kpeval",
   "language": "python",
   "name": "python3"
  },
  "language_info": {
   "codemirror_mode": {
    "name": "ipython",
    "version": 3
   },
   "file_extension": ".py",
   "mimetype": "text/x-python",
   "name": "python",
   "nbconvert_exporter": "python",
   "pygments_lexer": "ipython3",
   "version": "3.8.19"
  }
 },
 "nbformat": 4,
 "nbformat_minor": 2
}
