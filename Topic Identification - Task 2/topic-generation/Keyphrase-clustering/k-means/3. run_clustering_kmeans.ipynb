{
 "cells": [
  {
   "cell_type": "code",
   "execution_count": 3,
   "metadata": {},
   "outputs": [
    {
     "name": "stdout",
     "output_type": "stream",
     "text": [
      "Processing embeddings_89386107.csv.pkl...\n",
      "Processing embeddings_39442672.csv.pkl...\n",
      "Processing embeddings_70538846.csv.pkl...\n",
      "Processing embeddings_415599.csv.pkl...\n"
     ]
    },
    {
     "name": "stderr",
     "output_type": "stream",
     "text": [
      "/Users/davide.zanutto/miniconda3/envs/kpeval/lib/python3.8/site-packages/sklearn/cluster/_kmeans.py:1412: FutureWarning: The default value of `n_init` will change from 10 to 'auto' in 1.4. Set the value of `n_init` explicitly to suppress the warning\n",
      "  super()._check_params_vs_input(X, default_n_init=10)\n",
      "/Users/davide.zanutto/miniconda3/envs/kpeval/lib/python3.8/site-packages/sklearn/cluster/_kmeans.py:1412: FutureWarning: The default value of `n_init` will change from 10 to 'auto' in 1.4. Set the value of `n_init` explicitly to suppress the warning\n",
      "  super()._check_params_vs_input(X, default_n_init=10)\n",
      "/Users/davide.zanutto/miniconda3/envs/kpeval/lib/python3.8/site-packages/sklearn/cluster/_kmeans.py:1412: FutureWarning: The default value of `n_init` will change from 10 to 'auto' in 1.4. Set the value of `n_init` explicitly to suppress the warning\n",
      "  super()._check_params_vs_input(X, default_n_init=10)\n"
     ]
    },
    {
     "name": "stdout",
     "output_type": "stream",
     "text": [
      "Processing embeddings_29481683.csv.pkl...\n",
      "Processing embeddings_79552913.csv.pkl...\n",
      "Processing embeddings_29442663.csv.pkl...\n",
      "Processing embeddings_50324511.csv.pkl...\n",
      "Processing embeddings_70301542.csv.pkl...\n"
     ]
    },
    {
     "name": "stderr",
     "output_type": "stream",
     "text": [
      "/Users/davide.zanutto/miniconda3/envs/kpeval/lib/python3.8/site-packages/sklearn/cluster/_kmeans.py:1412: FutureWarning: The default value of `n_init` will change from 10 to 'auto' in 1.4. Set the value of `n_init` explicitly to suppress the warning\n",
      "  super()._check_params_vs_input(X, default_n_init=10)\n",
      "/Users/davide.zanutto/miniconda3/envs/kpeval/lib/python3.8/site-packages/sklearn/cluster/_kmeans.py:1412: FutureWarning: The default value of `n_init` will change from 10 to 'auto' in 1.4. Set the value of `n_init` explicitly to suppress the warning\n",
      "  super()._check_params_vs_input(X, default_n_init=10)\n",
      "/Users/davide.zanutto/miniconda3/envs/kpeval/lib/python3.8/site-packages/sklearn/cluster/_kmeans.py:1412: FutureWarning: The default value of `n_init` will change from 10 to 'auto' in 1.4. Set the value of `n_init` explicitly to suppress the warning\n",
      "  super()._check_params_vs_input(X, default_n_init=10)\n",
      "/Users/davide.zanutto/miniconda3/envs/kpeval/lib/python3.8/site-packages/sklearn/cluster/_kmeans.py:1412: FutureWarning: The default value of `n_init` will change from 10 to 'auto' in 1.4. Set the value of `n_init` explicitly to suppress the warning\n",
      "  super()._check_params_vs_input(X, default_n_init=10)\n"
     ]
    },
    {
     "name": "stdout",
     "output_type": "stream",
     "text": [
      "Processing embeddings_40501892.csv.pkl...\n"
     ]
    },
    {
     "name": "stderr",
     "output_type": "stream",
     "text": [
      "/Users/davide.zanutto/miniconda3/envs/kpeval/lib/python3.8/site-packages/sklearn/cluster/_kmeans.py:1412: FutureWarning: The default value of `n_init` will change from 10 to 'auto' in 1.4. Set the value of `n_init` explicitly to suppress the warning\n",
      "  super()._check_params_vs_input(X, default_n_init=10)\n"
     ]
    },
    {
     "name": "stdout",
     "output_type": "stream",
     "text": [
      "Processing embeddings_39329384.csv.pkl...\n",
      "Processing embeddings_80401292.csv.pkl...\n",
      "Processing embeddings_39442686.csv.pkl...\n",
      "Processing embeddings_99017445.csv.pkl...\n",
      "Processing embeddings_20454504.csv.pkl...\n"
     ]
    },
    {
     "name": "stderr",
     "output_type": "stream",
     "text": [
      "/Users/davide.zanutto/miniconda3/envs/kpeval/lib/python3.8/site-packages/sklearn/cluster/_kmeans.py:1412: FutureWarning: The default value of `n_init` will change from 10 to 'auto' in 1.4. Set the value of `n_init` explicitly to suppress the warning\n",
      "  super()._check_params_vs_input(X, default_n_init=10)\n",
      "/Users/davide.zanutto/miniconda3/envs/kpeval/lib/python3.8/site-packages/sklearn/cluster/_kmeans.py:1412: FutureWarning: The default value of `n_init` will change from 10 to 'auto' in 1.4. Set the value of `n_init` explicitly to suppress the warning\n",
      "  super()._check_params_vs_input(X, default_n_init=10)\n",
      "/Users/davide.zanutto/miniconda3/envs/kpeval/lib/python3.8/site-packages/sklearn/cluster/_kmeans.py:1412: FutureWarning: The default value of `n_init` will change from 10 to 'auto' in 1.4. Set the value of `n_init` explicitly to suppress the warning\n",
      "  super()._check_params_vs_input(X, default_n_init=10)\n",
      "/Users/davide.zanutto/miniconda3/envs/kpeval/lib/python3.8/site-packages/sklearn/cluster/_kmeans.py:1412: FutureWarning: The default value of `n_init` will change from 10 to 'auto' in 1.4. Set the value of `n_init` explicitly to suppress the warning\n",
      "  super()._check_params_vs_input(X, default_n_init=10)\n",
      "/Users/davide.zanutto/miniconda3/envs/kpeval/lib/python3.8/site-packages/sklearn/cluster/_kmeans.py:1412: FutureWarning: The default value of `n_init` will change from 10 to 'auto' in 1.4. Set the value of `n_init` explicitly to suppress the warning\n",
      "  super()._check_params_vs_input(X, default_n_init=10)\n"
     ]
    },
    {
     "name": "stdout",
     "output_type": "stream",
     "text": [
      "Processing embeddings_90495596.csv.pkl...\n",
      "Processing embeddings_501889.csv.pkl...\n",
      "Processing embeddings_49294529.csv.pkl...\n",
      "Processing embeddings_50334591.csv.pkl...\n"
     ]
    },
    {
     "name": "stderr",
     "output_type": "stream",
     "text": [
      "/Users/davide.zanutto/miniconda3/envs/kpeval/lib/python3.8/site-packages/sklearn/cluster/_kmeans.py:1412: FutureWarning: The default value of `n_init` will change from 10 to 'auto' in 1.4. Set the value of `n_init` explicitly to suppress the warning\n",
      "  super()._check_params_vs_input(X, default_n_init=10)\n",
      "/Users/davide.zanutto/miniconda3/envs/kpeval/lib/python3.8/site-packages/sklearn/cluster/_kmeans.py:1412: FutureWarning: The default value of `n_init` will change from 10 to 'auto' in 1.4. Set the value of `n_init` explicitly to suppress the warning\n",
      "  super()._check_params_vs_input(X, default_n_init=10)\n",
      "/Users/davide.zanutto/miniconda3/envs/kpeval/lib/python3.8/site-packages/sklearn/cluster/_kmeans.py:1412: FutureWarning: The default value of `n_init` will change from 10 to 'auto' in 1.4. Set the value of `n_init` explicitly to suppress the warning\n",
      "  super()._check_params_vs_input(X, default_n_init=10)\n",
      "/Users/davide.zanutto/miniconda3/envs/kpeval/lib/python3.8/site-packages/sklearn/cluster/_kmeans.py:1412: FutureWarning: The default value of `n_init` will change from 10 to 'auto' in 1.4. Set the value of `n_init` explicitly to suppress the warning\n",
      "  super()._check_params_vs_input(X, default_n_init=10)\n"
     ]
    },
    {
     "name": "stdout",
     "output_type": "stream",
     "text": [
      "Processing embeddings_79278250.csv.pkl...\n",
      "Processing embeddings_60278170.csv.pkl...\n",
      "Processing embeddings_70339291.csv.pkl...\n"
     ]
    },
    {
     "name": "stderr",
     "output_type": "stream",
     "text": [
      "/Users/davide.zanutto/miniconda3/envs/kpeval/lib/python3.8/site-packages/sklearn/cluster/_kmeans.py:1412: FutureWarning: The default value of `n_init` will change from 10 to 'auto' in 1.4. Set the value of `n_init` explicitly to suppress the warning\n",
      "  super()._check_params_vs_input(X, default_n_init=10)\n",
      "/Users/davide.zanutto/miniconda3/envs/kpeval/lib/python3.8/site-packages/sklearn/cluster/_kmeans.py:1412: FutureWarning: The default value of `n_init` will change from 10 to 'auto' in 1.4. Set the value of `n_init` explicitly to suppress the warning\n",
      "  super()._check_params_vs_input(X, default_n_init=10)\n",
      "/Users/davide.zanutto/miniconda3/envs/kpeval/lib/python3.8/site-packages/sklearn/cluster/_kmeans.py:1412: FutureWarning: The default value of `n_init` will change from 10 to 'auto' in 1.4. Set the value of `n_init` explicitly to suppress the warning\n",
      "  super()._check_params_vs_input(X, default_n_init=10)\n",
      "/Users/davide.zanutto/miniconda3/envs/kpeval/lib/python3.8/site-packages/sklearn/cluster/_kmeans.py:1412: FutureWarning: The default value of `n_init` will change from 10 to 'auto' in 1.4. Set the value of `n_init` explicitly to suppress the warning\n",
      "  super()._check_params_vs_input(X, default_n_init=10)\n"
     ]
    },
    {
     "name": "stdout",
     "output_type": "stream",
     "text": [
      "Processing embeddings_79294523.csv.pkl...\n",
      "Processing embeddings_89278259.csv.pkl...\n",
      "Processing embeddings_9442640.csv.pkl...\n",
      "Processing embeddings_69336359.csv.pkl...\n",
      "Processing embeddings_49285817.csv.pkl...\n"
     ]
    },
    {
     "name": "stderr",
     "output_type": "stream",
     "text": [
      "/Users/davide.zanutto/miniconda3/envs/kpeval/lib/python3.8/site-packages/sklearn/cluster/_kmeans.py:1412: FutureWarning: The default value of `n_init` will change from 10 to 'auto' in 1.4. Set the value of `n_init` explicitly to suppress the warning\n",
      "  super()._check_params_vs_input(X, default_n_init=10)\n",
      "/Users/davide.zanutto/miniconda3/envs/kpeval/lib/python3.8/site-packages/sklearn/cluster/_kmeans.py:1412: FutureWarning: The default value of `n_init` will change from 10 to 'auto' in 1.4. Set the value of `n_init` explicitly to suppress the warning\n",
      "  super()._check_params_vs_input(X, default_n_init=10)\n",
      "/Users/davide.zanutto/miniconda3/envs/kpeval/lib/python3.8/site-packages/sklearn/cluster/_kmeans.py:1412: FutureWarning: The default value of `n_init` will change from 10 to 'auto' in 1.4. Set the value of `n_init` explicitly to suppress the warning\n",
      "  super()._check_params_vs_input(X, default_n_init=10)\n",
      "/Users/davide.zanutto/miniconda3/envs/kpeval/lib/python3.8/site-packages/sklearn/cluster/_kmeans.py:1412: FutureWarning: The default value of `n_init` will change from 10 to 'auto' in 1.4. Set the value of `n_init` explicitly to suppress the warning\n",
      "  super()._check_params_vs_input(X, default_n_init=10)\n",
      "/Users/davide.zanutto/miniconda3/envs/kpeval/lib/python3.8/site-packages/sklearn/cluster/_kmeans.py:1412: FutureWarning: The default value of `n_init` will change from 10 to 'auto' in 1.4. Set the value of `n_init` explicitly to suppress the warning\n",
      "  super()._check_params_vs_input(X, default_n_init=10)\n"
     ]
    },
    {
     "name": "stdout",
     "output_type": "stream",
     "text": [
      "Processing embeddings_90510865.csv.pkl...\n",
      "Processing embeddings_40415601.csv.pkl...\n",
      "Processing embeddings_49481658.csv.pkl...\n",
      "Processing embeddings_40346924.csv.pkl...\n"
     ]
    },
    {
     "name": "stderr",
     "output_type": "stream",
     "text": [
      "/Users/davide.zanutto/miniconda3/envs/kpeval/lib/python3.8/site-packages/sklearn/cluster/_kmeans.py:1412: FutureWarning: The default value of `n_init` will change from 10 to 'auto' in 1.4. Set the value of `n_init` explicitly to suppress the warning\n",
      "  super()._check_params_vs_input(X, default_n_init=10)\n",
      "/Users/davide.zanutto/miniconda3/envs/kpeval/lib/python3.8/site-packages/sklearn/cluster/_kmeans.py:1412: FutureWarning: The default value of `n_init` will change from 10 to 'auto' in 1.4. Set the value of `n_init` explicitly to suppress the warning\n",
      "  super()._check_params_vs_input(X, default_n_init=10)\n",
      "/Users/davide.zanutto/miniconda3/envs/kpeval/lib/python3.8/site-packages/sklearn/cluster/_kmeans.py:1412: FutureWarning: The default value of `n_init` will change from 10 to 'auto' in 1.4. Set the value of `n_init` explicitly to suppress the warning\n",
      "  super()._check_params_vs_input(X, default_n_init=10)\n"
     ]
    },
    {
     "name": "stdout",
     "output_type": "stream",
     "text": [
      "Processing embeddings_59902658.csv.pkl...\n",
      "Processing embeddings_29278304.csv.pkl...\n",
      "Processing embeddings_59425916.csv.pkl...\n",
      "Processing embeddings_19490273.csv.pkl...\n"
     ]
    },
    {
     "name": "stderr",
     "output_type": "stream",
     "text": [
      "/Users/davide.zanutto/miniconda3/envs/kpeval/lib/python3.8/site-packages/sklearn/cluster/_kmeans.py:1412: FutureWarning: The default value of `n_init` will change from 10 to 'auto' in 1.4. Set the value of `n_init` explicitly to suppress the warning\n",
      "  super()._check_params_vs_input(X, default_n_init=10)\n",
      "/Users/davide.zanutto/miniconda3/envs/kpeval/lib/python3.8/site-packages/sklearn/cluster/_kmeans.py:1412: FutureWarning: The default value of `n_init` will change from 10 to 'auto' in 1.4. Set the value of `n_init` explicitly to suppress the warning\n",
      "  super()._check_params_vs_input(X, default_n_init=10)\n",
      "/Users/davide.zanutto/miniconda3/envs/kpeval/lib/python3.8/site-packages/sklearn/cluster/_kmeans.py:1412: FutureWarning: The default value of `n_init` will change from 10 to 'auto' in 1.4. Set the value of `n_init` explicitly to suppress the warning\n",
      "  super()._check_params_vs_input(X, default_n_init=10)\n"
     ]
    },
    {
     "name": "stdout",
     "output_type": "stream",
     "text": [
      "Processing embeddings_29481659.csv.pkl...\n",
      "Processing embeddings_10324513.csv.pkl...\n",
      "Processing embeddings_89294532.csv.pkl...\n",
      "Processing embeddings_89442679.csv.pkl...\n"
     ]
    },
    {
     "name": "stderr",
     "output_type": "stream",
     "text": [
      "/Users/davide.zanutto/miniconda3/envs/kpeval/lib/python3.8/site-packages/sklearn/cluster/_kmeans.py:1412: FutureWarning: The default value of `n_init` will change from 10 to 'auto' in 1.4. Set the value of `n_init` explicitly to suppress the warning\n",
      "  super()._check_params_vs_input(X, default_n_init=10)\n",
      "/Users/davide.zanutto/miniconda3/envs/kpeval/lib/python3.8/site-packages/sklearn/cluster/_kmeans.py:1412: FutureWarning: The default value of `n_init` will change from 10 to 'auto' in 1.4. Set the value of `n_init` explicitly to suppress the warning\n",
      "  super()._check_params_vs_input(X, default_n_init=10)\n",
      "/Users/davide.zanutto/miniconda3/envs/kpeval/lib/python3.8/site-packages/sklearn/cluster/_kmeans.py:1412: FutureWarning: The default value of `n_init` will change from 10 to 'auto' in 1.4. Set the value of `n_init` explicitly to suppress the warning\n",
      "  super()._check_params_vs_input(X, default_n_init=10)\n"
     ]
    },
    {
     "name": "stdout",
     "output_type": "stream",
     "text": [
      "Processing embeddings_79442694.csv.pkl...\n",
      "Processing embeddings_79278293.csv.pkl...\n",
      "Processing embeddings_19442710.csv.pkl...\n"
     ]
    },
    {
     "name": "stderr",
     "output_type": "stream",
     "text": [
      "/Users/davide.zanutto/miniconda3/envs/kpeval/lib/python3.8/site-packages/sklearn/cluster/_kmeans.py:1412: FutureWarning: The default value of `n_init` will change from 10 to 'auto' in 1.4. Set the value of `n_init` explicitly to suppress the warning\n",
      "  super()._check_params_vs_input(X, default_n_init=10)\n",
      "/Users/davide.zanutto/miniconda3/envs/kpeval/lib/python3.8/site-packages/sklearn/cluster/_kmeans.py:1412: FutureWarning: The default value of `n_init` will change from 10 to 'auto' in 1.4. Set the value of `n_init` explicitly to suppress the warning\n",
      "  super()._check_params_vs_input(X, default_n_init=10)\n",
      "/Users/davide.zanutto/miniconda3/envs/kpeval/lib/python3.8/site-packages/sklearn/cluster/_kmeans.py:1412: FutureWarning: The default value of `n_init` will change from 10 to 'auto' in 1.4. Set the value of `n_init` explicitly to suppress the warning\n",
      "  super()._check_params_vs_input(X, default_n_init=10)\n"
     ]
    },
    {
     "name": "stdout",
     "output_type": "stream",
     "text": [
      "Processing embeddings_10409932.csv.pkl...\n"
     ]
    },
    {
     "name": "stderr",
     "output_type": "stream",
     "text": [
      "/Users/davide.zanutto/miniconda3/envs/kpeval/lib/python3.8/site-packages/sklearn/cluster/_kmeans.py:1412: FutureWarning: The default value of `n_init` will change from 10 to 'auto' in 1.4. Set the value of `n_init` explicitly to suppress the warning\n",
      "  super()._check_params_vs_input(X, default_n_init=10)\n"
     ]
    },
    {
     "name": "stdout",
     "output_type": "stream",
     "text": [
      "Processing embeddings_275848.csv.pkl...\n"
     ]
    },
    {
     "name": "stderr",
     "output_type": "stream",
     "text": [
      "/Users/davide.zanutto/miniconda3/envs/kpeval/lib/python3.8/site-packages/sklearn/cluster/_kmeans.py:1412: FutureWarning: The default value of `n_init` will change from 10 to 'auto' in 1.4. Set the value of `n_init` explicitly to suppress the warning\n",
      "  super()._check_params_vs_input(X, default_n_init=10)\n"
     ]
    },
    {
     "name": "stdout",
     "output_type": "stream",
     "text": [
      "Processing embeddings_9442720.csv.pkl...\n",
      "Processing embeddings_69329387.csv.pkl...\n",
      "Processing embeddings_50339292.csv.pkl...\n"
     ]
    },
    {
     "name": "stderr",
     "output_type": "stream",
     "text": [
      "/Users/davide.zanutto/miniconda3/envs/kpeval/lib/python3.8/site-packages/sklearn/cluster/_kmeans.py:1412: FutureWarning: The default value of `n_init` will change from 10 to 'auto' in 1.4. Set the value of `n_init` explicitly to suppress the warning\n",
      "  super()._check_params_vs_input(X, default_n_init=10)\n",
      "/Users/davide.zanutto/miniconda3/envs/kpeval/lib/python3.8/site-packages/sklearn/cluster/_kmeans.py:1412: FutureWarning: The default value of `n_init` will change from 10 to 'auto' in 1.4. Set the value of `n_init` explicitly to suppress the warning\n",
      "  super()._check_params_vs_input(X, default_n_init=10)\n",
      "/Users/davide.zanutto/miniconda3/envs/kpeval/lib/python3.8/site-packages/sklearn/cluster/_kmeans.py:1412: FutureWarning: The default value of `n_init` will change from 10 to 'auto' in 1.4. Set the value of `n_init` explicitly to suppress the warning\n",
      "  super()._check_params_vs_input(X, default_n_init=10)\n"
     ]
    },
    {
     "name": "stdout",
     "output_type": "stream",
     "text": [
      "Processing embeddings_19285833.csv.pkl...\n",
      "Processing embeddings_39278290.csv.pkl...\n",
      "Processing embeddings_59442713.csv.pkl...\n",
      "Processing embeddings_69481681.csv.pkl...\n"
     ]
    },
    {
     "name": "stderr",
     "output_type": "stream",
     "text": [
      "/Users/davide.zanutto/miniconda3/envs/kpeval/lib/python3.8/site-packages/sklearn/cluster/_kmeans.py:1412: FutureWarning: The default value of `n_init` will change from 10 to 'auto' in 1.4. Set the value of `n_init` explicitly to suppress the warning\n",
      "  super()._check_params_vs_input(X, default_n_init=10)\n",
      "/Users/davide.zanutto/miniconda3/envs/kpeval/lib/python3.8/site-packages/sklearn/cluster/_kmeans.py:1412: FutureWarning: The default value of `n_init` will change from 10 to 'auto' in 1.4. Set the value of `n_init` explicitly to suppress the warning\n",
      "  super()._check_params_vs_input(X, default_n_init=10)\n",
      "/Users/davide.zanutto/miniconda3/envs/kpeval/lib/python3.8/site-packages/sklearn/cluster/_kmeans.py:1412: FutureWarning: The default value of `n_init` will change from 10 to 'auto' in 1.4. Set the value of `n_init` explicitly to suppress the warning\n",
      "  super()._check_params_vs_input(X, default_n_init=10)\n",
      "/Users/davide.zanutto/miniconda3/envs/kpeval/lib/python3.8/site-packages/sklearn/cluster/_kmeans.py:1412: FutureWarning: The default value of `n_init` will change from 10 to 'auto' in 1.4. Set the value of `n_init` explicitly to suppress the warning\n",
      "  super()._check_params_vs_input(X, default_n_init=10)\n"
     ]
    },
    {
     "name": "stdout",
     "output_type": "stream",
     "text": [
      "Processing embeddings_19278328.csv.pkl...\n",
      "Processing embeddings_99294517.csv.pkl...\n",
      "Processing embeddings_49294548.csv.pkl...\n"
     ]
    },
    {
     "name": "stderr",
     "output_type": "stream",
     "text": [
      "/Users/davide.zanutto/miniconda3/envs/kpeval/lib/python3.8/site-packages/sklearn/cluster/_kmeans.py:1412: FutureWarning: The default value of `n_init` will change from 10 to 'auto' in 1.4. Set the value of `n_init` explicitly to suppress the warning\n",
      "  super()._check_params_vs_input(X, default_n_init=10)\n",
      "/Users/davide.zanutto/miniconda3/envs/kpeval/lib/python3.8/site-packages/sklearn/cluster/_kmeans.py:1412: FutureWarning: The default value of `n_init` will change from 10 to 'auto' in 1.4. Set the value of `n_init` explicitly to suppress the warning\n",
      "  super()._check_params_vs_input(X, default_n_init=10)\n",
      "/Users/davide.zanutto/miniconda3/envs/kpeval/lib/python3.8/site-packages/sklearn/cluster/_kmeans.py:1412: FutureWarning: The default value of `n_init` will change from 10 to 'auto' in 1.4. Set the value of `n_init` explicitly to suppress the warning\n",
      "  super()._check_params_vs_input(X, default_n_init=10)\n"
     ]
    },
    {
     "name": "stdout",
     "output_type": "stream",
     "text": [
      "Processing embeddings_79285830.csv.pkl...\n",
      "Processing embeddings_80428852.csv.pkl...\n",
      "Processing embeddings_20275814.csv.pkl...\n"
     ]
    },
    {
     "name": "stderr",
     "output_type": "stream",
     "text": [
      "/Users/davide.zanutto/miniconda3/envs/kpeval/lib/python3.8/site-packages/sklearn/cluster/_kmeans.py:1412: FutureWarning: The default value of `n_init` will change from 10 to 'auto' in 1.4. Set the value of `n_init` explicitly to suppress the warning\n",
      "  super()._check_params_vs_input(X, default_n_init=10)\n",
      "/Users/davide.zanutto/miniconda3/envs/kpeval/lib/python3.8/site-packages/sklearn/cluster/_kmeans.py:1412: FutureWarning: The default value of `n_init` will change from 10 to 'auto' in 1.4. Set the value of `n_init` explicitly to suppress the warning\n",
      "  super()._check_params_vs_input(X, default_n_init=10)\n",
      "/Users/davide.zanutto/miniconda3/envs/kpeval/lib/python3.8/site-packages/sklearn/cluster/_kmeans.py:1412: FutureWarning: The default value of `n_init` will change from 10 to 'auto' in 1.4. Set the value of `n_init` explicitly to suppress the warning\n",
      "  super()._check_params_vs_input(X, default_n_init=10)\n"
     ]
    },
    {
     "name": "stdout",
     "output_type": "stream",
     "text": [
      "Processing embeddings_39017486.csv.pkl...\n",
      "Processing embeddings_324518.csv.pkl...\n"
     ]
    },
    {
     "name": "stderr",
     "output_type": "stream",
     "text": [
      "/Users/davide.zanutto/miniconda3/envs/kpeval/lib/python3.8/site-packages/sklearn/cluster/_kmeans.py:1412: FutureWarning: The default value of `n_init` will change from 10 to 'auto' in 1.4. Set the value of `n_init` explicitly to suppress the warning\n",
      "  super()._check_params_vs_input(X, default_n_init=10)\n",
      "/Users/davide.zanutto/miniconda3/envs/kpeval/lib/python3.8/site-packages/sklearn/cluster/_kmeans.py:1412: FutureWarning: The default value of `n_init` will change from 10 to 'auto' in 1.4. Set the value of `n_init` explicitly to suppress the warning\n",
      "  super()._check_params_vs_input(X, default_n_init=10)\n"
     ]
    },
    {
     "name": "stdout",
     "output_type": "stream",
     "text": [
      "Processing embeddings_20213312.csv.pkl...\n",
      "Processing embeddings_79294542.csv.pkl...\n"
     ]
    },
    {
     "name": "stderr",
     "output_type": "stream",
     "text": [
      "/Users/davide.zanutto/miniconda3/envs/kpeval/lib/python3.8/site-packages/sklearn/cluster/_kmeans.py:1412: FutureWarning: The default value of `n_init` will change from 10 to 'auto' in 1.4. Set the value of `n_init` explicitly to suppress the warning\n",
      "  super()._check_params_vs_input(X, default_n_init=10)\n",
      "/Users/davide.zanutto/miniconda3/envs/kpeval/lib/python3.8/site-packages/sklearn/cluster/_kmeans.py:1412: FutureWarning: The default value of `n_init` will change from 10 to 'auto' in 1.4. Set the value of `n_init` explicitly to suppress the warning\n",
      "  super()._check_params_vs_input(X, default_n_init=10)\n"
     ]
    },
    {
     "name": "stdout",
     "output_type": "stream",
     "text": [
      "Processing embeddings_9442621.csv.pkl...\n",
      "Processing embeddings_80512959.csv.pkl...\n",
      "Processing embeddings_79521356.csv.pkl...\n"
     ]
    },
    {
     "name": "stderr",
     "output_type": "stream",
     "text": [
      "/Users/davide.zanutto/miniconda3/envs/kpeval/lib/python3.8/site-packages/sklearn/cluster/_kmeans.py:1412: FutureWarning: The default value of `n_init` will change from 10 to 'auto' in 1.4. Set the value of `n_init` explicitly to suppress the warning\n",
      "  super()._check_params_vs_input(X, default_n_init=10)\n",
      "/Users/davide.zanutto/miniconda3/envs/kpeval/lib/python3.8/site-packages/sklearn/cluster/_kmeans.py:1412: FutureWarning: The default value of `n_init` will change from 10 to 'auto' in 1.4. Set the value of `n_init` explicitly to suppress the warning\n",
      "  super()._check_params_vs_input(X, default_n_init=10)\n",
      "/Users/davide.zanutto/miniconda3/envs/kpeval/lib/python3.8/site-packages/sklearn/cluster/_kmeans.py:1412: FutureWarning: The default value of `n_init` will change from 10 to 'auto' in 1.4. Set the value of `n_init` explicitly to suppress the warning\n",
      "  super()._check_params_vs_input(X, default_n_init=10)\n"
     ]
    },
    {
     "name": "stdout",
     "output_type": "stream",
     "text": [
      "Processing embeddings_90305803.csv.pkl...\n",
      "Processing embeddings_40334558.csv.pkl...\n",
      "Processing embeddings_19931865.csv.pkl...\n"
     ]
    },
    {
     "name": "stderr",
     "output_type": "stream",
     "text": [
      "/Users/davide.zanutto/miniconda3/envs/kpeval/lib/python3.8/site-packages/sklearn/cluster/_kmeans.py:1412: FutureWarning: The default value of `n_init` will change from 10 to 'auto' in 1.4. Set the value of `n_init` explicitly to suppress the warning\n",
      "  super()._check_params_vs_input(X, default_n_init=10)\n",
      "/Users/davide.zanutto/miniconda3/envs/kpeval/lib/python3.8/site-packages/sklearn/cluster/_kmeans.py:1412: FutureWarning: The default value of `n_init` will change from 10 to 'auto' in 1.4. Set the value of `n_init` explicitly to suppress the warning\n",
      "  super()._check_params_vs_input(X, default_n_init=10)\n",
      "/Users/davide.zanutto/miniconda3/envs/kpeval/lib/python3.8/site-packages/sklearn/cluster/_kmeans.py:1412: FutureWarning: The default value of `n_init` will change from 10 to 'auto' in 1.4. Set the value of `n_init` explicitly to suppress the warning\n",
      "  super()._check_params_vs_input(X, default_n_init=10)\n"
     ]
    },
    {
     "name": "stdout",
     "output_type": "stream",
     "text": [
      "Processing embeddings_20510864.csv.pkl...\n",
      "Processing embeddings_60221683.csv.pkl...\n",
      "Processing embeddings_99442645.csv.pkl...\n"
     ]
    },
    {
     "name": "stderr",
     "output_type": "stream",
     "text": [
      "/Users/davide.zanutto/miniconda3/envs/kpeval/lib/python3.8/site-packages/sklearn/cluster/_kmeans.py:1412: FutureWarning: The default value of `n_init` will change from 10 to 'auto' in 1.4. Set the value of `n_init` explicitly to suppress the warning\n",
      "  super()._check_params_vs_input(X, default_n_init=10)\n",
      "/Users/davide.zanutto/miniconda3/envs/kpeval/lib/python3.8/site-packages/sklearn/cluster/_kmeans.py:1412: FutureWarning: The default value of `n_init` will change from 10 to 'auto' in 1.4. Set the value of `n_init` explicitly to suppress the warning\n",
      "  super()._check_params_vs_input(X, default_n_init=10)\n",
      "/Users/davide.zanutto/miniconda3/envs/kpeval/lib/python3.8/site-packages/sklearn/cluster/_kmeans.py:1412: FutureWarning: The default value of `n_init` will change from 10 to 'auto' in 1.4. Set the value of `n_init` explicitly to suppress the warning\n",
      "  super()._check_params_vs_input(X, default_n_init=10)\n",
      "/Users/davide.zanutto/miniconda3/envs/kpeval/lib/python3.8/site-packages/sklearn/cluster/_kmeans.py:1412: FutureWarning: The default value of `n_init` will change from 10 to 'auto' in 1.4. Set the value of `n_init` explicitly to suppress the warning\n",
      "  super()._check_params_vs_input(X, default_n_init=10)\n",
      "/Users/davide.zanutto/miniconda3/envs/kpeval/lib/python3.8/site-packages/sklearn/cluster/_kmeans.py:1412: FutureWarning: The default value of `n_init` will change from 10 to 'auto' in 1.4. Set the value of `n_init` explicitly to suppress the warning\n",
      "  super()._check_params_vs_input(X, default_n_init=10)\n"
     ]
    },
    {
     "name": "stdout",
     "output_type": "stream",
     "text": [
      "Processing embeddings_50454507.csv.pkl...\n",
      "Processing embeddings_89285820.csv.pkl...\n",
      "Processing embeddings_10345073.csv.pkl...\n"
     ]
    },
    {
     "name": "stderr",
     "output_type": "stream",
     "text": [
      "/Users/davide.zanutto/miniconda3/envs/kpeval/lib/python3.8/site-packages/sklearn/cluster/_kmeans.py:1412: FutureWarning: The default value of `n_init` will change from 10 to 'auto' in 1.4. Set the value of `n_init` explicitly to suppress the warning\n",
      "  super()._check_params_vs_input(X, default_n_init=10)\n",
      "/Users/davide.zanutto/miniconda3/envs/kpeval/lib/python3.8/site-packages/sklearn/cluster/_kmeans.py:1412: FutureWarning: The default value of `n_init` will change from 10 to 'auto' in 1.4. Set the value of `n_init` explicitly to suppress the warning\n",
      "  super()._check_params_vs_input(X, default_n_init=10)\n"
     ]
    },
    {
     "name": "stdout",
     "output_type": "stream",
     "text": [
      "Processing embeddings_10487816.csv.pkl...\n",
      "Processing embeddings_40303439.csv.pkl...\n",
      "Skipping 70309840: No optimal cluster information\n",
      "Skipping 9189200: No optimal cluster information\n",
      "Skipping 40314640: No optimal cluster information\n",
      "Skipping 59481653: No optimal cluster information\n",
      "Skipping 59189127: No optimal cluster information\n",
      "Skipping 9442616: No optimal cluster information\n",
      "Skipping 9442664: No optimal cluster information\n",
      "Skipping 9481684: No optimal cluster information\n",
      "Skipping 19442654: No optimal cluster information\n",
      "Skipping 19278253: No optimal cluster information\n",
      "Skipping 59278307: No optimal cluster information\n",
      "Skipping 314642: No optimal cluster information\n",
      "Skipping 90286649: No optimal cluster information\n",
      "Skipping 40311873: No optimal cluster information\n",
      "Skipping 20423720: No optimal cluster information\n",
      "Skipping 10305741: No optimal cluster information\n",
      "Skipping 89442655: No optimal cluster information\n",
      "Skipping 9294526: No optimal cluster information\n",
      "Skipping 80334603: No optimal cluster information\n",
      "Skipping 49336341: No optimal cluster information\n",
      "Skipping 59442685: No optimal cluster information\n",
      "Skipping 10305802: No optimal cluster information\n",
      "Skipping 79442627: No optimal cluster information\n",
      "Skipping 50305739: No optimal cluster information\n",
      "Skipping 79552908: No optimal cluster information\n",
      "Skipping 49442718: No optimal cluster information\n",
      "Skipping 79442712: No optimal cluster information\n",
      "Skipping 90562166: No optimal cluster information\n",
      "Skipping 9017483: No optimal cluster information\n",
      "Skipping 89307643: No optimal cluster information\n",
      "Skipping 90428842: No optimal cluster information\n",
      "Skipping 49307640: No optimal cluster information\n",
      "Skipping 90324509: No optimal cluster information\n",
      "Skipping 89442721: No optimal cluster information\n",
      "Skipping 9278338: No optimal cluster information\n",
      "Skipping 10391041: No optimal cluster information\n",
      "Skipping 29481701: No optimal cluster information\n",
      "Skipping 80303437: No optimal cluster information\n",
      "Skipping 9481698: No optimal cluster information\n",
      "Skipping 29294554: No optimal cluster information\n",
      "Skipping 39285827: No optimal cluster information\n",
      "Skipping 9442678: No optimal cluster information\n",
      "Skipping 90495695: No optimal cluster information\n",
      "Skipping 60530577: No optimal cluster information\n",
      "Skipping 29442620: No optimal cluster information\n",
      "Skipping 39285808: No optimal cluster information\n",
      "Skipping 30324507: No optimal cluster information\n",
      "Skipping 20473593: No optimal cluster information\n",
      "Skipping 49442643: No optimal cluster information\n",
      "Skipping 89442622: No optimal cluster information\n",
      "Skipping 9275085: No optimal cluster information\n",
      "Skipping 39442691: No optimal cluster information\n",
      "Skipping 10538849: No optimal cluster information\n",
      "Skipping 70301537: No optimal cluster information\n",
      "Skipping 49275088: No optimal cluster information\n",
      "Skipping 80487813: No optimal cluster information\n",
      "Skipping 49481700: No optimal cluster information\n",
      "Skipping 19386101: No optimal cluster information\n",
      "Skipping 70483274: No optimal cluster information\n",
      "Skipping 19294535: No optimal cluster information\n",
      "Skipping 388633: No optimal cluster information\n",
      "Skipping 89278278: No optimal cluster information\n",
      "Skipping 20415193: No optimal cluster information\n",
      "Skipping 9398675: No optimal cluster information\n",
      "Skipping 10477935: No optimal cluster information\n",
      "Skipping 99490274: No optimal cluster information\n",
      "Skipping 89442641: No optimal cluster information\n",
      "Skipping 60510862: No optimal cluster information\n",
      "Skipping 29278262: No optimal cluster information\n",
      "Skipping 70286645: No optimal cluster information\n",
      "Skipping 49398678: No optimal cluster information\n",
      "Skipping 9398722: No optimal cluster information\n",
      "Skipping 59189472: No optimal cluster information\n",
      "Skipping 40324516: No optimal cluster information\n",
      "Skipping 89278301: No optimal cluster information\n",
      "Skipping 80556236: No optimal cluster information\n",
      "Skipping 20409936: No optimal cluster information\n",
      "Skipping 29481678: No optimal cluster information\n",
      "Skipping 19442692: No optimal cluster information\n",
      "Skipping 90301555: No optimal cluster information\n",
      "Skipping 79278269: No optimal cluster information\n",
      "Skipping 79197584: No optimal cluster information\n",
      "Skipping 30530574: No optimal cluster information\n",
      "Skipping 29197572: No optimal cluster information\n",
      "Skipping 59442628: No optimal cluster information\n",
      "Skipping 60275812: No optimal cluster information\n",
      "Skipping 40415192: No optimal cluster information\n",
      "Skipping 99294560: No optimal cluster information\n",
      "Skipping 19552949: No optimal cluster information\n",
      "Skipping 20301554: No optimal cluster information\n",
      "Skipping 80275887: No optimal cluster information\n",
      "Skipping 79442665: No optimal cluster information\n",
      "Skipping 59294557: No optimal cluster information\n",
      "Skipping 29442677: No optimal cluster information\n",
      "Skipping 69442680: No optimal cluster information\n",
      "Skipping 29442615: No optimal cluster information\n",
      "Skipping 29336356: No optimal cluster information\n",
      "Skipping 80508504: No optimal cluster information\n",
      "Skipping 50481172: No optimal cluster information\n",
      "Skipping 60324520: No optimal cluster information\n",
      "Skipping 79278325: No optimal cluster information\n",
      "Skipping 89221055: No optimal cluster information\n",
      "Skipping 10275862: No optimal cluster information\n",
      "Skipping 40409935: No optimal cluster information\n",
      "Skipping 334536: No optimal cluster information\n",
      "Skipping 70342199: No optimal cluster information\n",
      "Skipping 89398718: No optimal cluster information\n",
      "Skipping 49306872: No optimal cluster information\n",
      "Skipping 89275091: No optimal cluster information\n",
      "Skipping 30495599: No optimal cluster information\n",
      "Skipping 39932538: No optimal cluster information\n",
      "Skipping 69442642: No optimal cluster information\n",
      "Skipping 99017186: No optimal cluster information\n",
      "Skipping 40275846: No optimal cluster information\n",
      "Skipping 69190936: No optimal cluster information\n",
      "Skipping 99442674: No optimal cluster information\n",
      "Skipping 49442676: No optimal cluster information\n",
      "Skipping 89442617: No optimal cluster information\n",
      "Skipping 20278167: No optimal cluster information\n",
      "Skipping 99481694: No optimal cluster information\n",
      "Skipping 70391038: No optimal cluster information\n",
      "Skipping 99306860: No optimal cluster information\n",
      "Skipping 80483283: No optimal cluster information\n",
      "Skipping 20275885: No optimal cluster information\n",
      "Skipping 40510863: No optimal cluster information\n",
      "Skipping 59442666: No optimal cluster information\n",
      "Skipping 89278297: No optimal cluster information\n",
      "Skipping 40423719: No optimal cluster information\n",
      "Skipping 79902657: No optimal cluster information\n",
      "Skipping 19189030: No optimal cluster information\n",
      "Skipping 50214678: No optimal cluster information\n",
      "Skipping 99932540: No optimal cluster information\n",
      "Skipping 20305745: No optimal cluster information\n",
      "Skipping 89435221: No optimal cluster information\n",
      "Skipping 10221685: No optimal cluster information\n",
      "Skipping 19278272: No optimal cluster information\n",
      "Skipping 79442689: No optimal cluster information\n",
      "Skipping 30275861: No optimal cluster information\n",
      "Skipping 59189033: No optimal cluster information\n",
      "Skipping 59552914: No optimal cluster information\n",
      "Skipping 49189203: No optimal cluster information\n",
      "Skipping 69278335: No optimal cluster information\n",
      "Skipping 39286266: No optimal cluster information\n",
      "Skipping 70332124: No optimal cluster information\n",
      "Skipping 50483289: No optimal cluster information\n",
      "Skipping 70388639: No optimal cluster information\n",
      "Skipping 60333954: No optimal cluster information\n"
     ]
    },
    {
     "name": "stderr",
     "output_type": "stream",
     "text": [
      "/Users/davide.zanutto/miniconda3/envs/kpeval/lib/python3.8/site-packages/sklearn/cluster/_kmeans.py:1412: FutureWarning: The default value of `n_init` will change from 10 to 'auto' in 1.4. Set the value of `n_init` explicitly to suppress the warning\n",
      "  super()._check_params_vs_input(X, default_n_init=10)\n"
     ]
    }
   ],
   "source": [
    "import os\n",
    "import pickle\n",
    "import numpy as np\n",
    "from sklearn.cluster import KMeans\n",
    "import csv\n",
    "\n",
    "def load_embeddings(file_path):\n",
    "    with open(file_path, 'rb') as f:\n",
    "        return pickle.load(f)\n",
    "\n",
    "def apply_kmeans_clustering(folder_path, optimal_clusters_csv, output_txt):\n",
    "    # Read the optimal number of clusters for each art_id\n",
    "    optimal_clusters = {}\n",
    "    with open(optimal_clusters_csv, 'r') as f:\n",
    "        reader = csv.reader(f)\n",
    "        next(reader)  # Skip header\n",
    "        for row in reader:\n",
    "            filename, n_clusters = row\n",
    "            art_id = filename.split('_')[1].split('.')[0]\n",
    "            optimal_clusters[art_id] = int(n_clusters)\n",
    "\n",
    "    with open(output_txt, 'w') as outfile:\n",
    "        for file_name in os.listdir(folder_path):\n",
    "            if file_name.endswith('.pkl'):\n",
    "                art_id = file_name.split('_')[1].split('.')[0]\n",
    "\n",
    "                if art_id not in optimal_clusters:\n",
    "                    print(f\"Skipping {art_id}: No optimal cluster information\")\n",
    "                    continue\n",
    "\n",
    "                file_path = os.path.join(folder_path, file_name)\n",
    "                print(f\"Processing {file_name}...\")\n",
    "                embeddings_dict = load_embeddings(file_path)\n",
    "                phrases, embeddings_list = zip(*embeddings_dict.items())\n",
    "                embeddings_array = np.array(embeddings_list)\n",
    "\n",
    "                n_clusters = optimal_clusters[art_id]\n",
    "                \n",
    "                if n_clusters == 1:\n",
    "                    # If only one cluster, just use the phrase closest to the mean\n",
    "                    mean_embedding = np.mean(embeddings_array, axis=0)\n",
    "                    distances = np.linalg.norm(embeddings_array - mean_embedding, axis=1)\n",
    "                    closest_idx = np.argmin(distances)\n",
    "                    core_keyphrases = [phrases[closest_idx]]\n",
    "                else:\n",
    "                    if embeddings_array.shape[0] < n_clusters:\n",
    "                        print(f\"Not enough embeddings for {n_clusters} clusters. Using {embeddings_array.shape[0]} clusters instead.\")\n",
    "                        n_clusters = embeddings_array.shape[0]\n",
    "\n",
    "                    kmeans = KMeans(n_clusters=n_clusters, random_state=42).fit(embeddings_array)\n",
    "\n",
    "                    # Find the keyphrase closest to each centroid\n",
    "                    core_keyphrases = []\n",
    "                    for centroid in kmeans.cluster_centers_:\n",
    "                        distances = np.linalg.norm(embeddings_array - centroid, axis=1)\n",
    "                        closest_idx = np.argmin(distances)\n",
    "                        core_keyphrases.append(phrases[closest_idx])\n",
    "\n",
    "                # Write results to the output file\n",
    "                outfile.write(f\"embeddings_{art_id}.csv.pkl: {', '.join(core_keyphrases)}\\n\")\n",
    "\n",
    "# Set the paths\n",
    "embeddings_folder = '../../embeddings'\n",
    "optimal_clusters_csv = '../optimal_n_clusters.csv'\n",
    "output_txt = 'keyphrases_by_product_kmeans.txt'\n",
    "\n",
    "# Run the clustering and output results\n",
    "apply_kmeans_clustering(embeddings_folder, optimal_clusters_csv, output_txt)"
   ]
  }
 ],
 "metadata": {
  "kernelspec": {
   "display_name": "kpeval",
   "language": "python",
   "name": "python3"
  },
  "language_info": {
   "codemirror_mode": {
    "name": "ipython",
    "version": 3
   },
   "file_extension": ".py",
   "mimetype": "text/x-python",
   "name": "python",
   "nbconvert_exporter": "python",
   "pygments_lexer": "ipython3",
   "version": "3.8.19"
  }
 },
 "nbformat": 4,
 "nbformat_minor": 2
}
