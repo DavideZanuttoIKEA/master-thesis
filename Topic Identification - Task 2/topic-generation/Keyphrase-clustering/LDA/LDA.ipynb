{
 "cells": [
  {
   "cell_type": "code",
   "execution_count": 14,
   "metadata": {},
   "outputs": [
    {
     "name": "stderr",
     "output_type": "stream",
     "text": [
      "[nltk_data] Downloading package stopwords to\n",
      "[nltk_data]     /Users/davide.zanutto/nltk_data...\n",
      "[nltk_data]   Package stopwords is already up-to-date!\n",
      "[nltk_data] Downloading package wordnet to\n",
      "[nltk_data]     /Users/davide.zanutto/nltk_data...\n",
      "[nltk_data]   Package wordnet is already up-to-date!\n"
     ]
    },
    {
     "data": {
      "text/plain": [
       "['Extra shelves. These extra shelves make waisted space not waisted. ',\n",
       " 'White cubes. This unit works great for TV components and radio speakers. Plus the baskets hide all accessories underneath the components. ',\n",
       " 'Bookshelf. All my extra books fit on the shelves. The baskets help hold the extra stuff that won’t look nice exposed. ',\n",
       " 'Kallax. Nice clean look, sturdy and easy to put together',\n",
       " 'Great for my plants. Instructions can be confusing but the shelf is a great price and perfect for my plants.',\n",
       " 'White Kallax Shelves. These shelves are perfect! I bought the 9 cubbie and the 4 cubbie and put them side by side in my closet. They look so nice and professional. They provide so much extra storage. I will probably buy more for the upstairs closet as well. I hired the Task Rabbit to put them together and that was a great experience. Thank you IKEA for such a nice product.',\n",
       " 'Easy to assemble.. Easy to assemble.',\n",
       " 'Great bookshelves. We bought 4 of these and made a library wall with them. Looks great and holds lots of books.',\n",
       " 'Love this product!. This product is the perfect solution for my small space',\n",
       " 'Finally no MDF!. Finally no MDF!']"
      ]
     },
     "execution_count": 14,
     "metadata": {},
     "output_type": "execute_result"
    }
   ],
   "source": [
    "from gensim import corpora, models\n",
    "from nltk.corpus import stopwords\n",
    "from nltk.stem.wordnet import WordNetLemmatizer\n",
    "import nltk\n",
    "import pandas as pd\n",
    "nltk.download('stopwords')\n",
    "nltk.download('wordnet')\n",
    "\n",
    "# Sample data: list of documents\n",
    "data = pd.read_csv('../5Shot_FullReviewsKeyphrases_OpenStorageUS.csv', usecols=[0], nrows=10, sep=';')\n",
    "data = data.iloc[:, 0].astype(str).tolist()\n",
    "data"
   ]
  },
  {
   "cell_type": "code",
   "execution_count": 21,
   "metadata": {},
   "outputs": [
    {
     "name": "stdout",
     "output_type": "stream",
     "text": [
      "Review 1 Topics:\n",
      "[(2, 0.9823776)]\n",
      "Review 2 Topics:\n",
      "[(3, 0.98693025)]\n",
      "Review 3 Topics:\n",
      "[(2, 0.98979574)]\n",
      "Review 4 Topics:\n",
      "[(0, 0.9756653), (2, 0.01309073)]\n",
      "Review 5 Topics:\n",
      "[(2, 0.011675678), (3, 0.97845507)]\n",
      "Review 6 Topics:\n",
      "[(1, 0.9942336)]\n",
      "Review 7 Topics:\n",
      "[(0, 0.012376811), (2, 0.9658054), (3, 0.012723947)]\n",
      "Review 8 Topics:\n",
      "[(2, 0.98902583)]\n",
      "Review 9 Topics:\n",
      "[(0, 0.9723118), (2, 0.014894151)]\n",
      "Review 10 Topics:\n",
      "[(0, 0.012376813), (2, 0.9658054), (3, 0.012723949)]\n",
      "(1, '0.039*\"put\" + 0.039*\"cubbie\" + 0.039*\"nice\"')\n",
      "(3, '0.072*\"great\" + 0.050*\"plants.\" + 0.028*\"shelf\"')\n",
      "(2, '0.066*\"extra\" + 0.035*\"great\" + 0.035*\"easy\"')\n"
     ]
    }
   ],
   "source": [
    "stop_words = set(stopwords.words('english'))\n",
    "lemmatizer = WordNetLemmatizer()\n",
    "texts = [[lemmatizer.lemmatize(word) for word in review.lower().split() if word not in stop_words]\n",
    "         for review in data]\n",
    "\n",
    "# Create a dictionary and corpus\n",
    "dictionary = corpora.Dictionary(texts)\n",
    "corpus = [dictionary.doc2bow(text) for text in texts]\n",
    "\n",
    "# LDA Model\n",
    "lda_model = models.LdaModel(corpus, num_topics=4, id2word=dictionary, passes=15, alpha='auto')\n",
    "\n",
    "# Print topics for each review\n",
    "for i, bow in enumerate(corpus):\n",
    "    print(f\"Review {i+1} Topics:\")\n",
    "    print(lda_model.get_document_topics(bow))\n",
    "\n",
    "topics = lda_model.show_topics(formatted=True, num_topics=3, num_words=3)\n",
    "for topic in topics:\n",
    "    print(topic)"
   ]
  }
 ],
 "metadata": {
  "kernelspec": {
   "display_name": "kpeval",
   "language": "python",
   "name": "python3"
  },
  "language_info": {
   "codemirror_mode": {
    "name": "ipython",
    "version": 3
   },
   "file_extension": ".py",
   "mimetype": "text/x-python",
   "name": "python",
   "nbconvert_exporter": "python",
   "pygments_lexer": "ipython3",
   "version": "3.8.19"
  }
 },
 "nbformat": 4,
 "nbformat_minor": 2
}
